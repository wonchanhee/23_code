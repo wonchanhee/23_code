{
  "nbformat": 4,
  "nbformat_minor": 0,
  "metadata": {
    "colab": {
      "provenance": [],
      "authorship_tag": "ABX9TyPgdxKmrhulXZHw1GiXx96f",
      "include_colab_link": true
    },
    "kernelspec": {
      "name": "python3",
      "display_name": "Python 3"
    },
    "language_info": {
      "name": "python"
    }
  },
  "cells": [
    {
      "cell_type": "markdown",
      "metadata": {
        "id": "view-in-github",
        "colab_type": "text"
      },
      "source": [
        "<a href=\"https://colab.research.google.com/github/wonchanhee/23_code/blob/main/Untitled0.ipynb\" target=\"_parent\"><img src=\"https://colab.research.google.com/assets/colab-badge.svg\" alt=\"Open In Colab\"/></a>"
      ]
    },
    {
      "cell_type": "code",
      "execution_count": 1,
      "metadata": {
        "colab": {
          "base_uri": "https://localhost:8080/"
        },
        "id": "lwvknbdwmnyM",
        "outputId": "7d861633-1d77-416d-bce2-1de150fe4e7a"
      },
      "outputs": [
        {
          "output_type": "stream",
          "name": "stdout",
          "text": [
            "['아이언맨', '스파이더맨', '헐크', '스칼렛 위치']\n",
            "['아이언맨', '스파이더맨', '헐크', '스칼렛 위치', '비전']\n",
            "['아이언맨', '스파이더맨', '헐크', '캡틴 아메리카', '스칼렛 위치', '비전']\n",
            "['아이언맨', '스파이더맨', '헐크', '캡틴 아메리카', '스칼렛 위치']\n"
          ]
        },
        {
          "output_type": "execute_result",
          "data": {
            "text/plain": [
              "['아이언맨', '스파이더맨', '헐크', '캡틴 아메리카', '스칼렛 위치']"
            ]
          },
          "metadata": {},
          "execution_count": 1
        }
      ],
      "source": [
        "avengers = [ \"아이언맨\", \"토르\", \"헐크\", \"스칼렛 위치\"]\n",
        "avengers[1] = \"스파이더맨\"\n",
        "print(avengers)\n",
        "['아이언맨', '스파이더맨', '헐크', '스칼렛 위치']\n",
        "avengers.append(\"비전\")\n",
        "print(avengers)\n",
        "['아이언맨', '스파이더맨', '헐크', '스칼렛 위치', '비전']\n",
        "avengers.insert(3,\"캡틴 아메리카\")\n",
        "print(avengers)\n",
        "['아이언맨', '스파이더맨', '헐크', '캡틴 아메리카', '스칼렛 위치', '비전']\n",
        "avengers.remove(\"비전\")\n",
        "print(avengers)\n",
        "['아이언맨', '스파이더맨', '헐크', '캡틴 아메리카', '스칼렛 위치']"
      ]
    },
    {
      "cell_type": "code",
      "source": [],
      "metadata": {
        "id": "Z0jXWKIcm-Jx"
      },
      "execution_count": null,
      "outputs": []
    }
  ]
}